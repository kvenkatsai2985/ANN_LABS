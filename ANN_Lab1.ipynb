{
  "nbformat": 4,
  "nbformat_minor": 0,
  "metadata": {
    "colab": {
      "name": "ANN-Lab1.ipynb",
      "provenance": [],
      "authorship_tag": "ABX9TyNTncqu30/oAwdXUDnGCyOO",
      "include_colab_link": true
    },
    "kernelspec": {
      "name": "python3",
      "display_name": "Python 3"
    },
    "language_info": {
      "name": "python"
    }
  },
  "cells": [
    {
      "cell_type": "markdown",
      "metadata": {
        "id": "view-in-github",
        "colab_type": "text"
      },
      "source": [
        "<a href=\"https://colab.research.google.com/github/kvenkatsai2985/ANN_LABS/blob/main/ANN_Lab1.ipynb\" target=\"_parent\"><img src=\"https://colab.research.google.com/assets/colab-badge.svg\" alt=\"Open In Colab\"/></a>"
      ]
    },
    {
      "cell_type": "code",
      "execution_count": 1,
      "metadata": {
        "colab": {
          "base_uri": "https://localhost:8080/"
        },
        "id": "gzc774aL-2vj",
        "outputId": "07a5a751-93b9-457e-d9d6-8b8687a77686"
      },
      "outputs": [
        {
          "output_type": "stream",
          "name": "stdout",
          "text": [
            "Considering new situation [1, 1, 1] -> ?: \n",
            "[0.91089804]\n"
          ]
        }
      ],
      "source": [
        "from numpy import exp, array, random, dot,linspace,vectorize\n",
        "class NeuralNetwork():\n",
        " def __init__(self):\n",
        "    # Seed the random number generator, so it generates the same numbers\n",
        "    # every time the program runs.\n",
        "    random.seed(1)\n",
        "    # We model a single neuron, with 3 input connections and 1 output connection.\n",
        "    # We assign random weights to a 3 x 1 matrix, with values in the range -1 to 1\n",
        "    # and mean 0.\n",
        "    self.synaptic_weights = 2 * random.random((3, 1)) - 1\n",
        "    # The Sigmoid function, which describes an S shaped curve.\n",
        "    # We pass the weighted sum of the inputs through this function to\n",
        "    # normalise them between 0 and 1.\n",
        " def __sigmoid(self, x):\n",
        "  return 1 / (1 + exp(-x))\n",
        " # The derivative of the Sigmoid function.\n",
        " # This is the gradient of the Sigmoid curve.\n",
        " # It indicates how confident we are about the existing weight.\n",
        " def __sigmoid_derivative(self, x):\n",
        "  return x * (1 - x)\n",
        " # We train the neural network through a process of trial and error.\n",
        " # Adjusting the synaptic weights each time.\n",
        " def train(self, training_set_inputs, training_set_outputs,\n",
        "number_of_training_iterations):\n",
        "  for iteration in range(number_of_training_iterations):\n",
        "  # Pass the training set through our neural network (a single neuron).\n",
        "    output = self.think(training_set_inputs)\n",
        "    # Calculate the error (The difference between the desired output\n",
        "    # and the predicted output).\n",
        "    error = training_set_outputs - output\n",
        "\n",
        "  # Multiply the error by the input and again by the gradient of the Sigmoid curve.\n",
        "  # This means less confident weights are adjusted more.\n",
        "  # This means inputs, which are zero, do not cause changes to the weights.\n",
        "    adjustment = dot(training_set_inputs.T, error *\n",
        "     self.__sigmoid_derivative(output))\n",
        "  # Adjust the weights.\n",
        "    self.synaptic_weights += adjustment\n",
        "  # The neural network thinks.\n",
        " def think(self, inputs):\n",
        " # Pass inputs through our neural network (our single neuron).\n",
        "  return self.__sigmoid(dot(inputs, self.synaptic_weights))\n",
        "if __name__ == \"__main__\":\n",
        "  print(\"Considering new situation [1, 1, 1] -> ?: \")\n",
        "  nn=NeuralNetwork()\n",
        "  training_set_inputs = array([[0, 0, 1], [1, 1, 1], [1, 0, 1], [0, 1, 1]])\n",
        "  training_set_outputs = array([[0, 1, 1, 0]]).T\n",
        "  nn.train(training_set_inputs,training_set_outputs,100)\n",
        "  print(nn.think(array([1, 1, 1])))\n",
        "\n",
        "# Test the neural network with a new situation.\n"
      ]
    },
    {
      "cell_type": "code",
      "source": [
        "#Plotting sigmoid Activation function\n",
        "\n",
        "import matplotlib.pyplot as plt\n",
        "def Sigmoid(x):\n",
        "  return 1 / (1 + exp(-x))\n",
        "x = linspace(-10, 10)\n",
        "plt.xlabel(\"x\") \n",
        "plt.ylabel(\"Sigmoid(x)\") \n",
        "print(x)\n",
        "print(Sigmoid(x))\n",
        "plt.plot(x,Sigmoid(x))"
      ],
      "metadata": {
        "colab": {
          "base_uri": "https://localhost:8080/",
          "height": 695
        },
        "id": "RFUZMfRiVGOH",
        "outputId": "93e2bfdd-c65a-4025-f337-0722446f6259"
      },
      "execution_count": null,
      "outputs": [
        {
          "output_type": "stream",
          "name": "stdout",
          "text": [
            "[-10.          -9.59183673  -9.18367347  -8.7755102   -8.36734694\n",
            "  -7.95918367  -7.55102041  -7.14285714  -6.73469388  -6.32653061\n",
            "  -5.91836735  -5.51020408  -5.10204082  -4.69387755  -4.28571429\n",
            "  -3.87755102  -3.46938776  -3.06122449  -2.65306122  -2.24489796\n",
            "  -1.83673469  -1.42857143  -1.02040816  -0.6122449   -0.20408163\n",
            "   0.20408163   0.6122449    1.02040816   1.42857143   1.83673469\n",
            "   2.24489796   2.65306122   3.06122449   3.46938776   3.87755102\n",
            "   4.28571429   4.69387755   5.10204082   5.51020408   5.91836735\n",
            "   6.32653061   6.73469388   7.14285714   7.55102041   7.95918367\n",
            "   8.36734694   8.7755102    9.18367347   9.59183673  10.        ]\n",
            "[4.53978687e-05 6.82792246e-05 1.02692018e-04 1.54446212e-04\n",
            " 2.32277160e-04 3.49316192e-04 5.25297471e-04 7.89865942e-04\n",
            " 1.18752721e-03 1.78503502e-03 2.68237328e-03 4.02898336e-03\n",
            " 6.04752187e-03 9.06814944e-03 1.35769169e-02 2.02816018e-02\n",
            " 3.01959054e-02 4.47353464e-02 6.58005831e-02 9.57904660e-02\n",
            " 1.37437932e-01 1.93321370e-01 2.64947903e-01 3.51547277e-01\n",
            " 4.49155938e-01 5.50844062e-01 6.48452723e-01 7.35052097e-01\n",
            " 8.06678630e-01 8.62562068e-01 9.04209534e-01 9.34199417e-01\n",
            " 9.55264654e-01 9.69804095e-01 9.79718398e-01 9.86423083e-01\n",
            " 9.90931851e-01 9.93952478e-01 9.95971017e-01 9.97317627e-01\n",
            " 9.98214965e-01 9.98812473e-01 9.99210134e-01 9.99474703e-01\n",
            " 9.99650684e-01 9.99767723e-01 9.99845554e-01 9.99897308e-01\n",
            " 9.99931721e-01 9.99954602e-01]\n"
          ]
        },
        {
          "output_type": "execute_result",
          "data": {
            "text/plain": [
              "[<matplotlib.lines.Line2D at 0x7f1414ccbed0>]"
            ]
          },
          "metadata": {},
          "execution_count": 4
        },
        {
          "output_type": "display_data",
          "data": {
            "text/plain": [
              "<Figure size 432x288 with 1 Axes>"
            ],
            "image/png": "[encoded data removed]"
          },
          "metadata": {
            "needs_background": "light"
          }
        }
      ]
    },
    {
      "cell_type": "code",
      "source": [
        "#Plotting tanh Activation function\n",
        "import math\n",
        "def tanh(x):\n",
        "  return math.tanh(x)\n",
        "x=linspace(-10,10)\n",
        "f2 = vectorize(tanh)\n",
        "plt.xlabel(\"x\")\n",
        "plt.ylabel(\"tanh(x\")\n",
        "plt.plot(x,f2(x))"
      ],
      "metadata": {
        "colab": {
          "base_uri": "https://localhost:8080/",
          "height": 296
        },
        "id": "9ykDRaCdVGTn",
        "outputId": "2bbf58e3-8d1f-46dd-9ca8-299ec72dfe1f"
      },
      "execution_count": null,
      "outputs": [
        {
          "output_type": "execute_result",
          "data": {
            "text/plain": [
              "[<matplotlib.lines.Line2D at 0x7f14147bad10>]"
            ]
          },
          "metadata": {},
          "execution_count": 5
        },
        {
          "output_type": "display_data",
          "data": {
            "text/plain": [
              "<Figure size 432x288 with 1 Axes>"
            ],
            "image/png": "[encoded data removed]"
          },
          "metadata": {
            "needs_background": "light"
          }
        }
      ]
    },
    {
      "cell_type": "code",
      "source": [
        "#Plotting RELU Activation function\n",
        "def RELU(x):\n",
        "  if x>0:\n",
        "    return x\n",
        "  else: \n",
        "    return 0\n",
        "x = linspace(-10, 10)\n",
        "out=[RELU(i) for i in x]\n",
        "plt.xlabel(\"x\") \n",
        "plt.ylabel(\"Sigmoid(x)\") \n",
        "print(out)\n",
        "plt.plot(x,out)\n"
      ],
      "metadata": {
        "colab": {
          "base_uri": "https://localhost:8080/",
          "height": 334
        },
        "id": "kAkxiJ8hVGX3",
        "outputId": "16cdb4cb-652a-4ae4-a62d-dfe68f80228e"
      },
      "execution_count": null,
      "outputs": [
        {
          "output_type": "stream",
          "name": "stdout",
          "text": [
            "[0, 0, 0, 0, 0, 0, 0, 0, 0, 0, 0, 0, 0, 0, 0, 0, 0, 0, 0, 0, 0, 0, 0, 0, 0, 0.204081632653061, 0.612244897959183, 1.0204081632653068, 1.4285714285714288, 1.8367346938775508, 2.2448979591836746, 2.6530612244897966, 3.0612244897959187, 3.4693877551020407, 3.8775510204081627, 4.2857142857142865, 4.6938775510204085, 5.1020408163265305, 5.510204081632654, 5.918367346938776, 6.326530612244898, 6.73469387755102, 7.142857142857142, 7.551020408163264, 7.95918367346939, 8.367346938775512, 8.775510204081634, 9.183673469387756, 9.591836734693878, 10.0]\n"
          ]
        },
        {
          "output_type": "execute_result",
          "data": {
            "text/plain": [
              "[<matplotlib.lines.Line2D at 0x7f1414701e90>]"
            ]
          },
          "metadata": {},
          "execution_count": 6
        },
        {
          "output_type": "display_data",
          "data": {
            "text/plain": [
              "<Figure size 432x288 with 1 Axes>"
            ],
            "image/png": "[encoded data removed]"
          },
          "metadata": {
            "needs_background": "light"
          }
        }
      ]
    },
    {
      "cell_type": "code",
      "source": [
        "def leaky_relu(x):\n",
        "  if x > 0:\n",
        "    return x\n",
        "  else:\n",
        "    return 0.05*x\n",
        "x = linspace(-10, 10)\n",
        "out=[leaky_relu(i) for i in x]\n",
        "plt.xlabel(\"x\") \n",
        "plt.ylabel(\"Sigmoid(x)\") \n",
        "print(out)\n",
        "plt.plot(x,out)"
      ],
      "metadata": {
        "colab": {
          "base_uri": "https://localhost:8080/",
          "height": 334
        },
        "id": "1ccUVrYPVGbJ",
        "outputId": "e1add81b-9614-4fe9-e6cb-9aa52b1cb723"
      },
      "execution_count": null,
      "outputs": [
        {
          "output_type": "stream",
          "name": "stdout",
          "text": [
            "[-0.5, -0.4795918367346939, -0.4591836734693878, -0.4387755102040816, -0.41836734693877553, -0.39795918367346944, -0.3775510204081633, -0.35714285714285715, -0.33673469387755106, -0.3163265306122449, -0.29591836734693877, -0.2755102040816326, -0.25510204081632654, -0.23469387755102045, -0.2142857142857143, -0.19387755102040816, -0.17346938775510204, -0.15306122448979595, -0.1326530612244898, -0.11224489795918365, -0.09183673469387754, -0.07142857142857144, -0.05102040816326525, -0.030612244897959152, -0.010204081632653052, 0.204081632653061, 0.612244897959183, 1.0204081632653068, 1.4285714285714288, 1.8367346938775508, 2.2448979591836746, 2.6530612244897966, 3.0612244897959187, 3.4693877551020407, 3.8775510204081627, 4.2857142857142865, 4.6938775510204085, 5.1020408163265305, 5.510204081632654, 5.918367346938776, 6.326530612244898, 6.73469387755102, 7.142857142857142, 7.551020408163264, 7.95918367346939, 8.367346938775512, 8.775510204081634, 9.183673469387756, 9.591836734693878, 10.0]\n"
          ]
        },
        {
          "output_type": "execute_result",
          "data": {
            "text/plain": [
              "[<matplotlib.lines.Line2D at 0x7f1414676e50>]"
            ]
          },
          "metadata": {},
          "execution_count": 7
        },
        {
          "output_type": "display_data",
          "data": {
            "text/plain": [
              "<Figure size 432x288 with 1 Axes>"
            ],
            "image/png": "[encoded data removed]"
          },
          "metadata": {
            "needs_background": "light"
          }
        }
      ]
    }
  ]
}