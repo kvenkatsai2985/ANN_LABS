{
  "cells": [
    {
      "cell_type": "markdown",
      "metadata": {
        "id": "view-in-github",
        "colab_type": "text"
      },
      "source": [
        "<a href=\"https://colab.research.google.com/github/kvenkatsai2985/ANN_LABS/blob/main/LAB_4.ipynb\" target=\"_parent\"><img src=\"https://colab.research.google.com/assets/colab-badge.svg\" alt=\"Open In Colab\"/></a>"
      ]
    },
    {
      "cell_type": "code",
      "execution_count": 1,
      "id": "8452f9bb",
      "metadata": {
        "id": "8452f9bb"
      },
      "outputs": [],
      "source": [
        "from sklearn.datasets import load_iris  \n",
        "\n",
        "iris = load_iris()"
      ]
    },
    {
      "cell_type": "code",
      "execution_count": 2,
      "id": "1c0e04c5",
      "metadata": {
        "id": "1c0e04c5"
      },
      "outputs": [],
      "source": [
        "# splitting into train and test datasets\n",
        "\n",
        "from sklearn.model_selection import train_test_split\n",
        "datasets = train_test_split(iris.data, iris.target,\n",
        "                            test_size=0.2)\n",
        "\n",
        "train_data, test_data, train_labels, test_labels = datasets"
      ]
    },
    {
      "cell_type": "code",
      "execution_count": 3,
      "id": "84e90db3",
      "metadata": {
        "colab": {
          "base_uri": "https://localhost:8080/"
        },
        "id": "84e90db3",
        "outputId": "4f003d0c-6102-4ae5-809e-97b14d8a7765"
      },
      "outputs": [
        {
          "output_type": "stream",
          "name": "stdout",
          "text": [
            "[[-0.54517804  0.7392129  -1.17069028 -1.31448875]\n",
            " [ 0.3423211  -0.37798544  0.58315284  0.30611382]\n",
            " [ 0.59589228  0.51577323  0.58315284  0.57621425]]\n"
          ]
        }
      ],
      "source": [
        "# scaling the data\n",
        "from sklearn.preprocessing import StandardScaler\n",
        "scaler = StandardScaler()\n",
        "\n",
        "# we fit the train data\n",
        "scaler.fit(train_data)\n",
        "\n",
        "# scaling the train data\n",
        "train_data = scaler.transform(train_data)\n",
        "test_data = scaler.transform(test_data)\n",
        "\n",
        "print(train_data[:3])"
      ]
    },
    {
      "cell_type": "code",
      "execution_count": 4,
      "id": "4434a30a",
      "metadata": {
        "colab": {
          "base_uri": "https://localhost:8080/"
        },
        "id": "4434a30a",
        "outputId": "9a973623-62fe-4932-bbf1-34056d83db7c"
      },
      "outputs": [
        {
          "output_type": "execute_result",
          "data": {
            "text/plain": [
              "MLPClassifier(hidden_layer_sizes=(10, 5), max_iter=1000)"
            ]
          },
          "metadata": {},
          "execution_count": 4
        }
      ],
      "source": [
        "# Training the Model\n",
        "from sklearn.neural_network import MLPClassifier\n",
        "# creating an classifier from the model:\n",
        "mlp = MLPClassifier(hidden_layer_sizes=(10, 5), max_iter=1000)\n",
        "\n",
        "# let's fit the training data to our model\n",
        "mlp.fit(train_data, train_labels)"
      ]
    },
    {
      "cell_type": "code",
      "execution_count": 5,
      "id": "bbf0638c",
      "metadata": {
        "colab": {
          "base_uri": "https://localhost:8080/"
        },
        "id": "bbf0638c",
        "outputId": "123902ca-b828-451d-e36f-7d4ee7e91525"
      },
      "outputs": [
        {
          "output_type": "stream",
          "name": "stdout",
          "text": [
            "0.975\n",
            "0.9666666666666667\n"
          ]
        }
      ],
      "source": [
        "from sklearn.metrics import accuracy_score\n",
        "\n",
        "predictions_train = mlp.predict(train_data)\n",
        "print(accuracy_score(predictions_train, train_labels))\n",
        "predictions_test = mlp.predict(test_data)\n",
        "print(accuracy_score(predictions_test, test_labels))"
      ]
    },
    {
      "cell_type": "code",
      "execution_count": null,
      "id": "f3fb57b5",
      "metadata": {
        "id": "f3fb57b5"
      },
      "outputs": [],
      "source": [
        ""
      ]
    }
  ],
  "metadata": {
    "kernelspec": {
      "display_name": "Python 3 (ipykernel)",
      "language": "python",
      "name": "python3"
    },
    "language_info": {
      "codemirror_mode": {
        "name": "ipython",
        "version": 3
      },
      "file_extension": ".py",
      "mimetype": "text/x-python",
      "name": "python",
      "nbconvert_exporter": "python",
      "pygments_lexer": "ipython3",
      "version": "3.9.12"
    },
    "colab": {
      "name": "LAB 4.ipynb",
      "provenance": [],
      "include_colab_link": true
    }
  },
  "nbformat": 4,
  "nbformat_minor": 5
}